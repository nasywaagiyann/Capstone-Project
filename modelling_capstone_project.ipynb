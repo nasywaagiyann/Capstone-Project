{
  "cells": [
    {
      "cell_type": "markdown",
      "metadata": {
        "id": "A5QmuUrVtabp"
      },
      "source": [
        "## **Library**"
      ]
    },
    {
      "cell_type": "markdown",
      "metadata": {
        "id": "OyIavWd2ubxP"
      },
      "source": [
        "# **1440, 30**"
      ]
    },
    {
      "cell_type": "code",
      "execution_count": null,
      "metadata": {
        "id": "fZvQ5uJgugj-"
      },
      "outputs": [],
      "source": [
        "import numpy as np\n",
        "import pandas as pd\n",
        "import tensorflow as tf\n",
        "from sklearn.model_selection import train_test_split\n",
        "from tensorflow.keras.models import Sequential\n",
        "from tensorflow.keras.layers import LSTM, Dense, Dropout"
      ]
    },
    {
      "cell_type": "code",
      "execution_count": null,
      "metadata": {
        "id": "xaffGuC-ul6n"
      },
      "outputs": [],
      "source": [
        "df_scaled = pd.read_csv(\"/content/df_scaled.csv\")"
      ]
    },
    {
      "cell_type": "code",
      "execution_count": null,
      "metadata": {
        "colab": {
          "base_uri": "https://localhost:8080/"
        },
        "id": "s4mn6lgSusJp",
        "outputId": "c485941a-f5af-4fe6-dd66-2c8806e85be6"
      },
      "outputs": [
        {
          "name": "stdout",
          "output_type": "stream",
          "text": [
            "<class 'pandas.core.frame.DataFrame'>\n",
            "RangeIndex: 20160 entries, 0 to 20159\n",
            "Data columns (total 6 columns):\n",
            " #   Column       Non-Null Count  Dtype  \n",
            "---  ------       --------------  -----  \n",
            " 0   timestamp    20160 non-null  object \n",
            " 1   co2          20160 non-null  float64\n",
            " 2   temperature  20160 non-null  float64\n",
            " 3   humidity     20160 non-null  float64\n",
            " 4   rainfall     20160 non-null  float64\n",
            " 5   pyrano       20160 non-null  float64\n",
            "dtypes: float64(5), object(1)\n",
            "memory usage: 945.1+ KB\n"
          ]
        }
      ],
      "source": [
        "df_scaled.info()"
      ]
    },
    {
      "cell_type": "code",
      "execution_count": null,
      "metadata": {
        "id": "xtWDqWC9uvKb"
      },
      "outputs": [],
      "source": [
        "features = df_scaled[['temperature', 'humidity', 'rainfall', 'pyrano']].values\n",
        "target = df_scaled[['co2']].values\n",
        "\n",
        "# Membagi 50% train, 25% valid, 25% test\n",
        "total_len = len(df_scaled)\n",
        "train_split = int(total_len * 0.5)\n",
        "valid_split = int(total_len * 0.75)\n",
        "\n",
        "x_train = features[:train_split]\n",
        "x_valid = features[train_split:valid_split]\n",
        "x_test = features[valid_split:]\n",
        "\n",
        "y_train = target[:train_split]\n",
        "y_valid = target[train_split:valid_split]\n",
        "y_test = target[valid_split:]\n"
      ]
    },
    {
      "cell_type": "code",
      "execution_count": null,
      "metadata": {
        "id": "f4ciHdjMuxkX"
      },
      "outputs": [],
      "source": [
        "def windowed_dataset(series, batch_size, n_past=1440, n_future=30, shift=1):\n",
        "    ds = tf.data.Dataset.from_tensor_slices(series)\n",
        "    ds = ds.window(size=n_past + n_future, shift=shift, drop_remainder=True)\n",
        "    ds = ds.flat_map(lambda w: w.batch(n_past + n_future))\n",
        "    ds = ds.map(lambda w: (w[:n_past, :-1], w[n_past:, -1]))  # pisahkan input & target\n",
        "    return ds.batch(batch_size).prefetch(1)\n",
        "\n",
        "\n",
        "n_past = 1440\n",
        "n_future = 30\n",
        "shift = 1          # banyak sample, pelatihan optimal\n",
        "batch_size = 32    # umum untuk training"
      ]
    },
    {
      "cell_type": "code",
      "execution_count": null,
      "metadata": {
        "id": "MD77v8jeu2gd"
      },
      "outputs": [],
      "source": [
        "# Gabungkan input dan target\n",
        "train_series = np.concatenate([x_train, y_train], axis=1)\n",
        "valid_series = np.concatenate([x_valid, y_valid], axis=1)\n",
        "test_series  = np.concatenate([x_test, y_test], axis=1)  # Tambahan\n",
        "\n",
        "# Buat windowed dataset\n",
        "train_set = windowed_dataset(train_series, batch_size=batch_size,\n",
        "                             n_past=n_past, n_future=n_future, shift=shift)\n",
        "valid_set = windowed_dataset(valid_series, batch_size=batch_size,\n",
        "                             n_past=n_past, n_future=n_future, shift=shift)\n",
        "test_set  = windowed_dataset(test_series, batch_size=batch_size,\n",
        "                             n_past=n_past, n_future=n_future, shift=shift)  # Tambahan\n"
      ]
    },
    {
      "cell_type": "code",
      "execution_count": null,
      "metadata": {
        "id": "59V3MhG4u5C5"
      },
      "outputs": [],
      "source": [
        "from tensorflow.keras.callbacks import EarlyStopping\n",
        "callbacks = EarlyStopping(monitor='val_mae', patience=3, restore_best_weights=True)"
      ]
    },
    {
      "cell_type": "code",
      "execution_count": null,
      "metadata": {
        "id": "b1Av0lglu70c"
      },
      "outputs": [],
      "source": [
        "N_FEATURES = 4\n",
        "\n",
        "model = tf.keras.models.Sequential([\n",
        "    tf.keras.layers.Input(shape=(n_past, N_FEATURES)),\n",
        "\n",
        "    # Lebih banyak filter dan padding untuk mempertahankan dimensi\n",
        "    tf.keras.layers.Conv1D(filters=64, kernel_size=3, padding='same', activation='relu'),\n",
        "    tf.keras.layers.BatchNormalization(),\n",
        "    tf.keras.layers.MaxPooling1D(pool_size=2),\n",
        "\n",
        "    # Tambahkan dropout untuk regularisasi\n",
        "    tf.keras.layers.Bidirectional(tf.keras.layers.LSTM(64, return_sequences=True)),\n",
        "    tf.keras.layers.Dropout(0.3),\n",
        "\n",
        "    tf.keras.layers.Bidirectional(tf.keras.layers.LSTM(32, return_sequences=False)),\n",
        "    tf.keras.layers.Dropout(0.3),\n",
        "\n",
        "    # Dense layer untuk mapping akhir\n",
        "    tf.keras.layers.Dense(64, activation='relu'),\n",
        "    tf.keras.layers.Dense(n_future)\n",
        "])\n"
      ]
    },
    {
      "cell_type": "code",
      "execution_count": null,
      "metadata": {
        "colab": {
          "base_uri": "https://localhost:8080/"
        },
        "id": "QWCuLcrVu-7r",
        "outputId": "3a3ee7c5-244c-4156-970d-91686fc7e86c"
      },
      "outputs": [
        {
          "name": "stdout",
          "output_type": "stream",
          "text": [
            "Epoch 1/15\n",
            "    270/Unknown \u001b[1m34s\u001b[0m 109ms/step - loss: 0.1686 - mae: 0.1686"
          ]
        },
        {
          "name": "stderr",
          "output_type": "stream",
          "text": [
            "/usr/local/lib/python3.11/dist-packages/keras/src/trainers/epoch_iterator.py:151: UserWarning:\n",
            "\n",
            "Your input ran out of data; interrupting training. Make sure that your dataset or generator can generate at least `steps_per_epoch * epochs` batches. You may need to use the `.repeat()` function when building your dataset.\n",
            "\n"
          ]
        },
        {
          "name": "stdout",
          "output_type": "stream",
          "text": [
            "\b\b\b\b\b\b\b\b\b\b\b\b\b\b\b\b\b\b\b\b\b\b\b\b\b\b\b\b\b\b\b\b\b\b\b\b\b\b\b\b\b\b\b\b\b\b\b\b\b\b\b\b\b\b\b\b\b\b\b\r\u001b[1m270/270\u001b[0m \u001b[32m━━━━━━━━━━━━━━━━━━━━\u001b[0m\u001b[37m\u001b[0m \u001b[1m43s\u001b[0m 142ms/step - loss: 0.1685 - mae: 0.1685 - val_loss: 0.2906 - val_mae: 0.2906\n",
            "Epoch 2/15\n",
            "\u001b[1m270/270\u001b[0m \u001b[32m━━━━━━━━━━━━━━━━━━━━\u001b[0m\u001b[37m\u001b[0m \u001b[1m36s\u001b[0m 133ms/step - loss: 0.1033 - mae: 0.1033 - val_loss: 0.2693 - val_mae: 0.2693\n",
            "Epoch 3/15\n",
            "\u001b[1m270/270\u001b[0m \u001b[32m━━━━━━━━━━━━━━━━━━━━\u001b[0m\u001b[37m\u001b[0m \u001b[1m41s\u001b[0m 153ms/step - loss: 0.0820 - mae: 0.0820 - val_loss: 0.2403 - val_mae: 0.2403\n",
            "Epoch 4/15\n",
            "\u001b[1m270/270\u001b[0m \u001b[32m━━━━━━━━━━━━━━━━━━━━\u001b[0m\u001b[37m\u001b[0m \u001b[1m84s\u001b[0m 159ms/step - loss: 0.1009 - mae: 0.1009 - val_loss: 0.1621 - val_mae: 0.1621\n",
            "Epoch 5/15\n",
            "\u001b[1m270/270\u001b[0m \u001b[32m━━━━━━━━━━━━━━━━━━━━\u001b[0m\u001b[37m\u001b[0m \u001b[1m77s\u001b[0m 139ms/step - loss: 0.1178 - mae: 0.1178 - val_loss: 0.1205 - val_mae: 0.1205\n",
            "Epoch 6/15\n",
            "\u001b[1m270/270\u001b[0m \u001b[32m━━━━━━━━━━━━━━━━━━━━\u001b[0m\u001b[37m\u001b[0m \u001b[1m40s\u001b[0m 137ms/step - loss: 0.0804 - mae: 0.0804 - val_loss: 0.1496 - val_mae: 0.1496\n",
            "Epoch 7/15\n",
            "\u001b[1m270/270\u001b[0m \u001b[32m━━━━━━━━━━━━━━━━━━━━\u001b[0m\u001b[37m\u001b[0m \u001b[1m41s\u001b[0m 138ms/step - loss: 0.0830 - mae: 0.0830 - val_loss: 0.1468 - val_mae: 0.1468\n",
            "Epoch 8/15\n",
            "\u001b[1m270/270\u001b[0m \u001b[32m━━━━━━━━━━━━━━━━━━━━\u001b[0m\u001b[37m\u001b[0m \u001b[1m41s\u001b[0m 137ms/step - loss: 0.0966 - mae: 0.0966 - val_loss: 0.2575 - val_mae: 0.2575\n"
          ]
        },
        {
          "data": {
            "text/plain": [
              "<keras.src.callbacks.history.History at 0x7dd8e2092450>"
            ]
          },
          "execution_count": 60,
          "metadata": {},
          "output_type": "execute_result"
        }
      ],
      "source": [
        "# Compile the new model before fitting\n",
        "optimizer = tf.keras.optimizers.Adam(learning_rate=1e-3)\n",
        "model.compile(loss='mae',\n",
        "                  optimizer= optimizer,\n",
        "                  metrics=[\"mae\"])\n",
        "\n",
        "model.fit(train_set,\n",
        "          validation_data=valid_set,\n",
        "          epochs=15,\n",
        "          callbacks=callbacks,\n",
        "          verbose=1\n",
        "    )"
      ]
    },
    {
      "cell_type": "code",
      "execution_count": null,
      "metadata": {
        "colab": {
          "base_uri": "https://localhost:8080/"
        },
        "id": "2LLxRM8tvfDb",
        "outputId": "d6221298-3406-41e9-e52b-f2f3c8fbcfd5"
      },
      "outputs": [
        {
          "name": "stdout",
          "output_type": "stream",
          "text": [
            "\u001b[1m112/112\u001b[0m \u001b[32m━━━━━━━━━━━━━━━━━━━━\u001b[0m\u001b[37m\u001b[0m \u001b[1m7s\u001b[0m 64ms/step - loss: 0.1017 - mae: 0.1017\n"
          ]
        }
      ],
      "source": [
        "test_loss, test_mae = model.evaluate(test_set)"
      ]
    },
    {
      "cell_type": "markdown",
      "source": [
        "## **SAVED MODEL**"
      ],
      "metadata": {
        "id": "GXACeHg1ljgG"
      }
    },
    {
      "cell_type": "code",
      "execution_count": null,
      "metadata": {
        "colab": {
          "base_uri": "https://localhost:8080/"
        },
        "id": "juWkHhP8SGm2",
        "outputId": "de4c3891-a5a3-4341-d093-2544cf49e16d"
      },
      "outputs": [
        {
          "name": "stderr",
          "output_type": "stream",
          "text": [
            "WARNING:absl:You are saving your model as an HDF5 file via `model.save()` or `keras.saving.save_model(model)`. This file format is considered legacy. We recommend using instead the native Keras format, e.g. `model.save('my_model.keras')` or `keras.saving.save_model(model, 'my_model.keras')`. \n"
          ]
        }
      ],
      "source": [
        "# prompt: saved model .h5\n",
        "\n",
        "model.save('my_model.h5')"
      ]
    },
    {
      "cell_type": "markdown",
      "source": [
        "## **Melihat Hasil Prediksi**"
      ],
      "metadata": {
        "id": "BkdqJtFglvkh"
      }
    },
    {
      "cell_type": "code",
      "execution_count": null,
      "metadata": {
        "colab": {
          "base_uri": "https://localhost:8080/"
        },
        "id": "lJD2yETnvSg3",
        "outputId": "fa2344a1-7ef2-4bf3-c040-a455e9844125"
      },
      "outputs": [
        {
          "name": "stdout",
          "output_type": "stream",
          "text": [
            "\u001b[1m1/1\u001b[0m \u001b[32m━━━━━━━━━━━━━━━━━━━━\u001b[0m\u001b[37m\u001b[0m \u001b[1m1s\u001b[0m 548ms/step\n",
            "             timestamp  prediksi_co2\n",
            "0  2025-05-08 00:00:00    496.493402\n",
            "1  2025-05-08 00:01:00    500.112136\n",
            "2  2025-05-08 00:02:00    488.508382\n",
            "3  2025-05-08 00:03:00    516.055974\n",
            "4  2025-05-08 00:04:00    500.574610\n",
            "5  2025-05-08 00:05:00    501.500706\n",
            "6  2025-05-08 00:06:00    492.837955\n",
            "7  2025-05-08 00:07:00    500.523454\n",
            "8  2025-05-08 00:08:00    523.128451\n",
            "9  2025-05-08 00:09:00    514.907152\n",
            "10 2025-05-08 00:10:00    509.193235\n",
            "11 2025-05-08 00:11:00    512.558015\n",
            "12 2025-05-08 00:12:00    508.436568\n",
            "13 2025-05-08 00:13:00    510.856429\n",
            "14 2025-05-08 00:14:00    504.540202\n",
            "15 2025-05-08 00:15:00    503.373446\n",
            "16 2025-05-08 00:16:00    510.301648\n",
            "17 2025-05-08 00:17:00    496.272017\n",
            "18 2025-05-08 00:18:00    504.983963\n",
            "19 2025-05-08 00:19:00    507.017459\n",
            "20 2025-05-08 00:20:00    510.444086\n",
            "21 2025-05-08 00:21:00    506.653714\n",
            "22 2025-05-08 00:22:00    510.416621\n",
            "23 2025-05-08 00:23:00    509.160160\n",
            "24 2025-05-08 00:24:00    509.475880\n",
            "25 2025-05-08 00:25:00    497.522812\n",
            "26 2025-05-08 00:26:00    505.806746\n",
            "27 2025-05-08 00:27:00    517.075482\n",
            "28 2025-05-08 00:28:00    506.590043\n",
            "29 2025-05-08 00:29:00    504.634391\n"
          ]
        }
      ],
      "source": [
        "import numpy as np\n",
        "import pandas as pd\n",
        "import tensorflow as tf\n",
        "import joblib\n",
        "\n",
        "# --- 1. Load Scaler dan definisi kolom ---\n",
        "scaler = joblib.load('scaler.save')\n",
        "cols_to_scale = ['co2', 'temperature', 'humidity', 'rainfall', 'pyrano']\n",
        "\n",
        "# --- 2. Ambil data terbaru sebagai input ---\n",
        "n_past = 1440\n",
        "n_future = 30\n",
        "N_FEATURES = 4\n",
        "\n",
        "recent_data = df_scaled[['temperature', 'humidity', 'rainfall', 'pyrano']].values[-n_past:]\n",
        "input_for_model = recent_data.reshape(1, n_past, N_FEATURES)\n",
        "\n",
        "# --- 3. Prediksi ---\n",
        "predicted_scaled = model.predict(input_for_model)\n",
        "\n",
        "# --- 4. Inverse transform hasil prediksi ke skala asli ---\n",
        "dummy_full = np.zeros((predicted_scaled.shape[1], len(cols_to_scale)))\n",
        "dummy_full[:, cols_to_scale.index('co2')] = predicted_scaled[0]\n",
        "\n",
        "predicted_original = scaler.inverse_transform(dummy_full)[:, cols_to_scale.index('co2')]\n",
        "\n",
        "# --- 5. Buat timestamp ke depan (asumsi data per menit) ---\n",
        "last_timestamp = pd.to_datetime(df_scaled['timestamp'].iloc[-1])\n",
        "future_timestamps = [last_timestamp + pd.Timedelta(minutes=1) * i for i in range(1, n_future + 1)]\n",
        "\n",
        "# --- 6. Buat DataFrame hasil prediksi ---\n",
        "df_prediksi = pd.DataFrame({\n",
        "    'timestamp': future_timestamps,\n",
        "    'prediksi_co2': predicted_original\n",
        "})\n",
        "\n",
        "# Tampilkan hasil\n",
        "print(df_prediksi)\n"
      ]
    },
    {
      "cell_type": "code",
      "execution_count": null,
      "metadata": {
        "id": "4N5G-AB34oxG"
      },
      "outputs": [],
      "source": [
        "# --- 6. Buat DataFrame hasil prediksi ---\n",
        "df_prediksi = pd.DataFrame({\n",
        "    'timestamp': future_timestamps,\n",
        "    'prediksi_co2': predicted_original\n",
        "})\n",
        "\n",
        "# Pastikan timestamp jadi datetime index\n",
        "df_prediksi['timestamp'] = pd.to_datetime(df_prediksi['timestamp'])\n",
        "df_prediksi.set_index('timestamp', inplace=True)\n",
        "\n",
        "# --- 7. Hitung rata-rata setiap 30 menit ---\n",
        "df_rata2_30menit = df_prediksi.resample('30T').mean()\n",
        "\n",
        "# Tampilkan hasil\n",
        "print(df_rata2_30menit)\n"
      ]
    },
    {
      "cell_type": "markdown",
      "source": [
        "## **Melihat Grafik Hasil Prediksi**"
      ],
      "metadata": {
        "id": "m6MupyOVl4AK"
      }
    },
    {
      "cell_type": "code",
      "execution_count": null,
      "metadata": {
        "colab": {
          "base_uri": "https://localhost:8080/",
          "height": 505
        },
        "id": "To7gUaDXvYu2",
        "outputId": "632dc3db-a9c5-438e-9f4d-ea27e90f1217"
      },
      "outputs": [
        {
          "name": "stdout",
          "output_type": "stream",
          "text": [
            "\u001b[1m1/1\u001b[0m \u001b[32m━━━━━━━━━━━━━━━━━━━━\u001b[0m\u001b[37m\u001b[0m \u001b[1m0s\u001b[0m 87ms/step\n"
          ]
        },
        {
          "data": {
            "image/png": "[encoded data removed]",
            "text/plain": [
              "<Figure size 1500x500 with 1 Axes>"
            ]
          },
          "metadata": {},
          "output_type": "display_data"
        }
      ],
      "source": [
        "import numpy as np\n",
        "import pandas as pd\n",
        "import tensorflow as tf\n",
        "import joblib\n",
        "import matplotlib.pyplot as plt\n",
        "\n",
        "\n",
        "# --- 1. Load scaler yang sudah disimpan ---\n",
        "scaler = joblib.load('scaler.save')  # Ganti dengan nama file kamu kalau beda\n",
        "cols_to_scale = ['co2', 'temperature', 'humidity', 'rainfall', 'pyrano']\n",
        "\n",
        "# --- 2. Ambil data terakhir sebanyak n_past time step ---\n",
        "n_past = 1440\n",
        "n_future = 30\n",
        "N_FEATURES = 4\n",
        "\n",
        "# Ambil fitur saja dari df_scaled (harus sudah ada)\n",
        "recent_data = df_scaled[['temperature', 'humidity', 'rainfall', 'pyrano']].values[-n_past:]\n",
        "\n",
        "# Pastikan shape = (1, n_past, N_FEATURES)\n",
        "input_for_model = recent_data.reshape(1, n_past, N_FEATURES)\n",
        "\n",
        "# --- 3. Prediksi menggunakan model LSTM yang sudah dilatih ---\n",
        "predicted_scaled = model.predict(input_for_model)\n",
        "\n",
        "# --- 4. Inverse transform hasil prediksi ---\n",
        "# Kita buat array dummy agar bisa inverse_transform\n",
        "dummy_full = np.zeros((predicted_scaled.shape[1], len(cols_to_scale)))  # shape: (30, 5)\n",
        "dummy_full[:, cols_to_scale.index('co2')] = predicted_scaled[0]\n",
        "\n",
        "predicted_original = scaler.inverse_transform(dummy_full)[:, cols_to_scale.index('co2')]\n",
        "\n",
        "# --- 5. Buat timestamp untuk 30 langkah ke depan ---\n",
        "last_timestamp = pd.to_datetime(df_scaled['timestamp'].iloc[-1])\n",
        "future_timestamps = [last_timestamp + pd.Timedelta(minutes=1) * i for i in range(1, n_future + 1)]\n",
        "\n",
        "# --- 6. Visualisasi hasil prediksi ---\n",
        "plt.figure(figsize=(15, 5))\n",
        "plt.plot(future_timestamps, predicted_original, marker='o', label='Prediksi CO2')\n",
        "plt.title('Prediksi CO2 untuk 30 menit ke depan')\n",
        "plt.xlabel('Waktu')\n",
        "plt.ylabel('CO2 (original scale)')\n",
        "plt.legend()\n",
        "plt.grid(True)\n",
        "plt.show()\n"
      ]
    },
    {
      "cell_type": "markdown",
      "metadata": {
        "id": "6uszaDRHYow7"
      },
      "source": [
        "## **INFERENCE DATA BARU (DUMMY)**"
      ]
    },
    {
      "cell_type": "code",
      "execution_count": null,
      "metadata": {
        "id": "DvmB2ycMydU_"
      },
      "outputs": [],
      "source": [
        "import pandas as pd\n",
        "import numpy as np\n",
        "import tensorflow as tf\n",
        "import joblib\n",
        "\n",
        "# 1. Load data baru\n",
        "df = pd.read_csv('/content/data_dummy_lingkungan.csv', parse_dates=['timestamp'])\n",
        "df = df[['timestamp', 'co2', 'temperature', 'humidity', 'rainfall', 'pyrano']]"
      ]
    },
    {
      "cell_type": "code",
      "execution_count": null,
      "metadata": {
        "id": "6uCULiYNye0w"
      },
      "outputs": [],
      "source": [
        "# 2. Isi missing value\n",
        "df_filled = df.ffill().bfill()\n",
        "df_filled = df_filled.sort_values(by='timestamp').reset_index(drop=True)\n"
      ]
    },
    {
      "cell_type": "code",
      "execution_count": null,
      "metadata": {
        "id": "3aFPeF2QygCc"
      },
      "outputs": [],
      "source": [
        "# 3. Load scaler dan model\n",
        "scaler = joblib.load('scaler.save')\n",
        "model = tf.keras.models.load_model('/content/my_model.h5', compile=False)"
      ]
    },
    {
      "cell_type": "code",
      "execution_count": null,
      "metadata": {
        "id": "B7h2eEX9yhmL"
      },
      "outputs": [],
      "source": [
        "# 4. Scaling\n",
        "cols_to_scale = ['co2', 'temperature', 'humidity', 'rainfall', 'pyrano']\n",
        "df_scaled = df_filled.copy()\n",
        "df_scaled[cols_to_scale] = scaler.transform(df_scaled[cols_to_scale])\n"
      ]
    },
    {
      "cell_type": "code",
      "execution_count": null,
      "metadata": {
        "id": "o1_FFwIeyj6I"
      },
      "outputs": [],
      "source": [
        "# 5. Ambil data input model\n",
        "n_past = 1440\n",
        "n_future = 30\n",
        "N_FEATURES = 4\n",
        "\n",
        "recent_data = df_scaled[['temperature', 'humidity', 'rainfall', 'pyrano']].values[-n_past:]\n",
        "input_for_model = recent_data.reshape(1, n_past, N_FEATURES)\n"
      ]
    },
    {
      "cell_type": "code",
      "execution_count": null,
      "metadata": {
        "colab": {
          "base_uri": "https://localhost:8080/"
        },
        "id": "7YcGaBlHyna7",
        "outputId": "a1600e2b-4468-439e-9bb9-98583823064c"
      },
      "outputs": [
        {
          "name": "stderr",
          "output_type": "stream",
          "text": [
            "WARNING:tensorflow:5 out of the last 9 calls to <function TensorFlowTrainer.make_predict_function.<locals>.one_step_on_data_distributed at 0x7dd8b20b2de0> triggered tf.function retracing. Tracing is expensive and the excessive number of tracings could be due to (1) creating @tf.function repeatedly in a loop, (2) passing tensors with different shapes, (3) passing Python objects instead of tensors. For (1), please define your @tf.function outside of the loop. For (2), @tf.function has reduce_retracing=True option that can avoid unnecessary retracing. For (3), please refer to https://www.tensorflow.org/guide/function#controlling_retracing and https://www.tensorflow.org/api_docs/python/tf/function for  more details.\n"
          ]
        },
        {
          "name": "stdout",
          "output_type": "stream",
          "text": [
            "\u001b[1m1/1\u001b[0m \u001b[32m━━━━━━━━━━━━━━━━━━━━\u001b[0m\u001b[37m\u001b[0m \u001b[1m1s\u001b[0m 1s/step\n"
          ]
        }
      ],
      "source": [
        "# 6. Prediksi\n",
        "predicted_scaled = model.predict(input_for_model)"
      ]
    },
    {
      "cell_type": "code",
      "execution_count": null,
      "metadata": {
        "id": "EN_aGb3jypgj"
      },
      "outputs": [],
      "source": [
        "# 7. Inverse transform prediksi\n",
        "dummy_full = np.zeros((n_future, len(cols_to_scale)))\n",
        "dummy_full[:, cols_to_scale.index('co2')] = predicted_scaled[0]\n",
        "\n",
        "predicted_original = scaler.inverse_transform(dummy_full)[:, cols_to_scale.index('co2')]"
      ]
    },
    {
      "cell_type": "code",
      "execution_count": null,
      "metadata": {
        "id": "PMnl64-6ysd-"
      },
      "outputs": [],
      "source": [
        "# 8. Buat timestamp prediksi\n",
        "last_timestamp = df_scaled['timestamp'].iloc[-1]\n",
        "future_timestamps = [last_timestamp + pd.Timedelta(minutes=i) for i in range(1, n_future + 1)]\n"
      ]
    },
    {
      "cell_type": "code",
      "execution_count": null,
      "metadata": {
        "colab": {
          "base_uri": "https://localhost:8080/"
        },
        "id": "m6IMIPobyvQ7",
        "outputId": "3b8d8c3d-aa46-43ce-dcc3-57037909934d"
      },
      "outputs": [
        {
          "name": "stdout",
          "output_type": "stream",
          "text": [
            "             timestamp  prediksi_co2\n",
            "0  2025-06-11 00:00:00    387.936825\n",
            "1  2025-06-11 00:01:00    385.384998\n",
            "2  2025-06-11 00:02:00    386.576549\n",
            "3  2025-06-11 00:03:00    385.060907\n",
            "4  2025-06-11 00:04:00    387.227439\n",
            "5  2025-06-11 00:05:00    387.854468\n",
            "6  2025-06-11 00:06:00    386.644315\n",
            "7  2025-06-11 00:07:00    387.787642\n",
            "8  2025-06-11 00:08:00    387.150264\n",
            "9  2025-06-11 00:09:00    387.105636\n",
            "10 2025-06-11 00:10:00    386.984295\n",
            "11 2025-06-11 00:11:00    388.613947\n",
            "12 2025-06-11 00:12:00    387.375319\n",
            "13 2025-06-11 00:13:00    387.022662\n",
            "14 2025-06-11 00:14:00    387.376772\n",
            "15 2025-06-11 00:15:00    385.979340\n",
            "16 2025-06-11 00:16:00    385.662450\n",
            "17 2025-06-11 00:17:00    387.555957\n",
            "18 2025-06-11 00:18:00    385.782251\n",
            "19 2025-06-11 00:19:00    386.216637\n",
            "20 2025-06-11 00:20:00    388.072490\n",
            "21 2025-06-11 00:21:00    385.330322\n",
            "22 2025-06-11 00:22:00    384.183409\n",
            "23 2025-06-11 00:23:00    384.985652\n",
            "24 2025-06-11 00:24:00    385.568723\n",
            "25 2025-06-11 00:25:00    387.066366\n",
            "26 2025-06-11 00:26:00    386.765859\n",
            "27 2025-06-11 00:27:00    385.943384\n",
            "28 2025-06-11 00:28:00    383.766771\n",
            "29 2025-06-11 00:29:00    383.919988\n"
          ]
        }
      ],
      "source": [
        "# 9. Hasil akhir\n",
        "df_prediksi = pd.DataFrame({\n",
        "    'timestamp': future_timestamps,\n",
        "    'prediksi_co2': predicted_original\n",
        "})\n",
        "\n",
        "# 10. Tampilkan hasil\n",
        "print(df_prediksi)\n"
      ]
    }
  ],
  "metadata": {
    "accelerator": "GPU",
    "colab": {
      "gpuType": "T4",
      "provenance": []
    },
    "kernelspec": {
      "display_name": "Python 3",
      "name": "python3"
    },
    "language_info": {
      "name": "python"
    }
  },
  "nbformat": 4,
  "nbformat_minor": 0
}