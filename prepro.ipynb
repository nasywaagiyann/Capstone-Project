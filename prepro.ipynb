{
  "nbformat": 4,
  "nbformat_minor": 0,
  "metadata": {
    "colab": {
      "provenance": []
    },
    "kernelspec": {
      "name": "python3",
      "display_name": "Python 3"
    },
    "language_info": {
      "name": "python"
    }
  },
  "cells": [
    {
      "cell_type": "markdown",
      "source": [
        "# Memanggil Data"
      ],
      "metadata": {
        "id": "_TKiqfzv5cTQ"
      }
    },
    {
      "cell_type": "code",
      "source": [
        "import pandas as pd"
      ],
      "metadata": {
        "id": "zaAF_oA-4PhG"
      },
      "execution_count": 1,
      "outputs": []
    },
    {
      "cell_type": "code",
      "execution_count": 2,
      "metadata": {
        "colab": {
          "base_uri": "https://localhost:8080/",
          "height": 316
        },
        "id": "ibRX1npw0i4y",
        "outputId": "0fff4e91-0760-45f7-e319-398c2bdc0013"
      },
      "outputs": [
        {
          "output_type": "error",
          "ename": "MessageError",
          "evalue": "Error: credential propagation was unsuccessful",
          "traceback": [
            "\u001b[0;31m---------------------------------------------------------------------------\u001b[0m",
            "\u001b[0;31mMessageError\u001b[0m                              Traceback (most recent call last)",
            "\u001b[0;32m<ipython-input-2-d5df0069828e>\u001b[0m in \u001b[0;36m<cell line: 0>\u001b[0;34m()\u001b[0m\n\u001b[1;32m      1\u001b[0m \u001b[0;32mfrom\u001b[0m \u001b[0mgoogle\u001b[0m\u001b[0;34m.\u001b[0m\u001b[0mcolab\u001b[0m \u001b[0;32mimport\u001b[0m \u001b[0mdrive\u001b[0m\u001b[0;34m\u001b[0m\u001b[0;34m\u001b[0m\u001b[0m\n\u001b[0;32m----> 2\u001b[0;31m \u001b[0mdrive\u001b[0m\u001b[0;34m.\u001b[0m\u001b[0mmount\u001b[0m\u001b[0;34m(\u001b[0m\u001b[0;34m'/content/drive'\u001b[0m\u001b[0;34m)\u001b[0m\u001b[0;34m\u001b[0m\u001b[0;34m\u001b[0m\u001b[0m\n\u001b[0m",
            "\u001b[0;32m/usr/local/lib/python3.11/dist-packages/google/colab/drive.py\u001b[0m in \u001b[0;36mmount\u001b[0;34m(mountpoint, force_remount, timeout_ms, readonly)\u001b[0m\n\u001b[1;32m     98\u001b[0m \u001b[0;32mdef\u001b[0m \u001b[0mmount\u001b[0m\u001b[0;34m(\u001b[0m\u001b[0mmountpoint\u001b[0m\u001b[0;34m,\u001b[0m \u001b[0mforce_remount\u001b[0m\u001b[0;34m=\u001b[0m\u001b[0;32mFalse\u001b[0m\u001b[0;34m,\u001b[0m \u001b[0mtimeout_ms\u001b[0m\u001b[0;34m=\u001b[0m\u001b[0;36m120000\u001b[0m\u001b[0;34m,\u001b[0m \u001b[0mreadonly\u001b[0m\u001b[0;34m=\u001b[0m\u001b[0;32mFalse\u001b[0m\u001b[0;34m)\u001b[0m\u001b[0;34m:\u001b[0m\u001b[0;34m\u001b[0m\u001b[0;34m\u001b[0m\u001b[0m\n\u001b[1;32m     99\u001b[0m   \u001b[0;34m\"\"\"Mount your Google Drive at the specified mountpoint path.\"\"\"\u001b[0m\u001b[0;34m\u001b[0m\u001b[0;34m\u001b[0m\u001b[0m\n\u001b[0;32m--> 100\u001b[0;31m   return _mount(\n\u001b[0m\u001b[1;32m    101\u001b[0m       \u001b[0mmountpoint\u001b[0m\u001b[0;34m,\u001b[0m\u001b[0;34m\u001b[0m\u001b[0;34m\u001b[0m\u001b[0m\n\u001b[1;32m    102\u001b[0m       \u001b[0mforce_remount\u001b[0m\u001b[0;34m=\u001b[0m\u001b[0mforce_remount\u001b[0m\u001b[0;34m,\u001b[0m\u001b[0;34m\u001b[0m\u001b[0;34m\u001b[0m\u001b[0m\n",
            "\u001b[0;32m/usr/local/lib/python3.11/dist-packages/google/colab/drive.py\u001b[0m in \u001b[0;36m_mount\u001b[0;34m(mountpoint, force_remount, timeout_ms, ephemeral, readonly)\u001b[0m\n\u001b[1;32m    135\u001b[0m   )\n\u001b[1;32m    136\u001b[0m   \u001b[0;32mif\u001b[0m \u001b[0mephemeral\u001b[0m\u001b[0;34m:\u001b[0m\u001b[0;34m\u001b[0m\u001b[0;34m\u001b[0m\u001b[0m\n\u001b[0;32m--> 137\u001b[0;31m     _message.blocking_request(\n\u001b[0m\u001b[1;32m    138\u001b[0m         \u001b[0;34m'request_auth'\u001b[0m\u001b[0;34m,\u001b[0m\u001b[0;34m\u001b[0m\u001b[0;34m\u001b[0m\u001b[0m\n\u001b[1;32m    139\u001b[0m         \u001b[0mrequest\u001b[0m\u001b[0;34m=\u001b[0m\u001b[0;34m{\u001b[0m\u001b[0;34m'authType'\u001b[0m\u001b[0;34m:\u001b[0m \u001b[0;34m'dfs_ephemeral'\u001b[0m\u001b[0;34m}\u001b[0m\u001b[0;34m,\u001b[0m\u001b[0;34m\u001b[0m\u001b[0;34m\u001b[0m\u001b[0m\n",
            "\u001b[0;32m/usr/local/lib/python3.11/dist-packages/google/colab/_message.py\u001b[0m in \u001b[0;36mblocking_request\u001b[0;34m(request_type, request, timeout_sec, parent)\u001b[0m\n\u001b[1;32m    174\u001b[0m       \u001b[0mrequest_type\u001b[0m\u001b[0;34m,\u001b[0m \u001b[0mrequest\u001b[0m\u001b[0;34m,\u001b[0m \u001b[0mparent\u001b[0m\u001b[0;34m=\u001b[0m\u001b[0mparent\u001b[0m\u001b[0;34m,\u001b[0m \u001b[0mexpect_reply\u001b[0m\u001b[0;34m=\u001b[0m\u001b[0;32mTrue\u001b[0m\u001b[0;34m\u001b[0m\u001b[0;34m\u001b[0m\u001b[0m\n\u001b[1;32m    175\u001b[0m   )\n\u001b[0;32m--> 176\u001b[0;31m   \u001b[0;32mreturn\u001b[0m \u001b[0mread_reply_from_input\u001b[0m\u001b[0;34m(\u001b[0m\u001b[0mrequest_id\u001b[0m\u001b[0;34m,\u001b[0m \u001b[0mtimeout_sec\u001b[0m\u001b[0;34m)\u001b[0m\u001b[0;34m\u001b[0m\u001b[0;34m\u001b[0m\u001b[0m\n\u001b[0m",
            "\u001b[0;32m/usr/local/lib/python3.11/dist-packages/google/colab/_message.py\u001b[0m in \u001b[0;36mread_reply_from_input\u001b[0;34m(message_id, timeout_sec)\u001b[0m\n\u001b[1;32m    101\u001b[0m     ):\n\u001b[1;32m    102\u001b[0m       \u001b[0;32mif\u001b[0m \u001b[0;34m'error'\u001b[0m \u001b[0;32min\u001b[0m \u001b[0mreply\u001b[0m\u001b[0;34m:\u001b[0m\u001b[0;34m\u001b[0m\u001b[0;34m\u001b[0m\u001b[0m\n\u001b[0;32m--> 103\u001b[0;31m         \u001b[0;32mraise\u001b[0m \u001b[0mMessageError\u001b[0m\u001b[0;34m(\u001b[0m\u001b[0mreply\u001b[0m\u001b[0;34m[\u001b[0m\u001b[0;34m'error'\u001b[0m\u001b[0;34m]\u001b[0m\u001b[0;34m)\u001b[0m\u001b[0;34m\u001b[0m\u001b[0;34m\u001b[0m\u001b[0m\n\u001b[0m\u001b[1;32m    104\u001b[0m       \u001b[0;32mreturn\u001b[0m \u001b[0mreply\u001b[0m\u001b[0;34m.\u001b[0m\u001b[0mget\u001b[0m\u001b[0;34m(\u001b[0m\u001b[0;34m'data'\u001b[0m\u001b[0;34m,\u001b[0m \u001b[0;32mNone\u001b[0m\u001b[0;34m)\u001b[0m\u001b[0;34m\u001b[0m\u001b[0;34m\u001b[0m\u001b[0m\n\u001b[1;32m    105\u001b[0m \u001b[0;34m\u001b[0m\u001b[0m\n",
            "\u001b[0;31mMessageError\u001b[0m: Error: credential propagation was unsuccessful"
          ]
        }
      ],
      "source": [
        "from google.colab import drive\n",
        "drive.mount('/content/drive')"
      ]
    },
    {
      "cell_type": "code",
      "source": [
        "file_path = '/content/drive/MyDrive/data_eda_step1.csv'\n",
        "df = pd.read_csv(file_path)"
      ],
      "metadata": {
        "id": "rfuLaKbk3Fpb"
      },
      "execution_count": null,
      "outputs": []
    },
    {
      "cell_type": "code",
      "source": [
        "df.head(20000)"
      ],
      "metadata": {
        "id": "Xm-XdBh95YPb"
      },
      "execution_count": null,
      "outputs": []
    },
    {
      "cell_type": "markdown",
      "source": [
        "# Data Prepro"
      ],
      "metadata": {
        "id": "JP4U27x95hsM"
      }
    },
    {
      "cell_type": "markdown",
      "source": [
        "## Missing Value"
      ],
      "metadata": {
        "id": "lZYlvJfT5kvF"
      }
    },
    {
      "cell_type": "code",
      "source": [
        "df.isnull().sum()"
      ],
      "metadata": {
        "id": "lB8U1VTd9dI7"
      },
      "execution_count": null,
      "outputs": []
    },
    {
      "cell_type": "code",
      "source": [
        "df_filled = df.ffill().bfill()"
      ],
      "metadata": {
        "id": "Pmv-AZki9pKI"
      },
      "execution_count": null,
      "outputs": []
    },
    {
      "cell_type": "markdown",
      "source": [
        "Missing value diisi dengan nilai pada menit sebelumnya dan sesudahnya dengan asumsi bahwa data terekam secara kontinu, perubahan antar menit relatif stabil, serta tidak terdapat lonjakan nilai ekstrem dalam waktu singkat. Pendekatan ini sesuai untuk data sensor lingkungan yang cenderung memiliki pola halus dan bertahap."
      ],
      "metadata": {
        "id": "Q7tkmBLM9yIq"
      }
    },
    {
      "cell_type": "code",
      "source": [
        "df_filled.head(100)"
      ],
      "metadata": {
        "id": "wYtFJz_O-EK7"
      },
      "execution_count": null,
      "outputs": []
    },
    {
      "cell_type": "markdown",
      "source": [
        "## Outlier"
      ],
      "metadata": {
        "id": "41RflRzb_rbk"
      }
    },
    {
      "cell_type": "code",
      "source": [
        "df_filled['co2'].plot(figsize=(15, 4), title='CO2 Time Series')"
      ],
      "metadata": {
        "id": "wJE_GckMAzks"
      },
      "execution_count": null,
      "outputs": []
    },
    {
      "cell_type": "code",
      "source": [
        "def detect_outliers_iqr(data, column):\n",
        "    Q1 = data[column].quantile(0.25)\n",
        "    Q3 = data[column].quantile(0.75)\n",
        "    IQR = Q3 - Q1\n",
        "    lower_bound = Q1 - 1.5 * IQR\n",
        "    upper_bound = Q3 + 1.5 * IQR\n",
        "    outliers = data[(data[column] < lower_bound) | (data[column] > upper_bound)]\n",
        "    return outliers\n",
        "\n",
        "# Contoh: deteksi outlier pada CO2\n",
        "outlier_co2 = detect_outliers_iqr(df_filled, 'co2')\n",
        "print(f\"Jumlah outlier CO2: {len(outlier_co2)}\")\n",
        "outlier_co2.head()"
      ],
      "metadata": {
        "id": "2S1OXT4WDQ7E"
      },
      "execution_count": null,
      "outputs": []
    },
    {
      "cell_type": "code",
      "source": [
        "# Kalau timestamp masih kolom biasa\n",
        "df_filled['timestamp'] = pd.to_datetime(df_filled['timestamp'])\n",
        "\n",
        "# Cek apakah sudah urut naik\n",
        "is_sorted = df_filled['timestamp'].is_monotonic_increasing\n",
        "print(f\"Timestamp sudah urut naik? {is_sorted}\")\n",
        "\n",
        "# Kalau belum, urutkan dulu\n",
        "if not is_sorted:\n",
        "    df = df_filled.sort_values(by='timestamp').reset_index(drop=True)\n",
        "    print(\"Data sudah diurutkan berdasarkan timestamp.\")\n"
      ],
      "metadata": {
        "id": "cuzykTOFD4zU"
      },
      "execution_count": null,
      "outputs": []
    },
    {
      "cell_type": "code",
      "source": [
        "import pandas as pd\n",
        "\n",
        "# Pastikan timestamp sudah jadi datetime dan data sudah urut\n",
        "df_filled['timestamp'] = pd.to_datetime(df_filled['timestamp'])\n",
        "df_filled = df_filled.sort_values(by='timestamp').reset_index(drop=True)\n",
        "\n",
        "# Set timestamp sebagai index supaya lebih mudah slicing\n",
        "df_filled.set_index('timestamp', inplace=True)\n",
        "\n",
        "# Timestamp outlier yang mau dicek\n",
        "outlier_time = pd.to_datetime('2025-05-02 01:15:00')\n",
        "\n",
        "# Data sebelum outlier: cari timestamp terbesar yang kurang dari outlier_time\n",
        "before = df_filled[df_filled.index < outlier_time].iloc[-1]\n",
        "\n",
        "# Data sesudah outlier: cari timestamp terkecil yang lebih dari outlier_time\n",
        "after = df_filled[df_filled.index > outlier_time].iloc[0]\n",
        "\n",
        "# Data outlier (kalau ada persis)\n",
        "outlier = df_filled.loc[df_filled.index == outlier_time]\n",
        "\n",
        "print(\"Data 1 menit sebelum outlier:\")\n",
        "print(before)\n",
        "\n",
        "print(\"\\nData outlier:\")\n",
        "print(outlier if not outlier.empty else \"Data outlier tidak ditemukan persis.\")\n",
        "\n",
        "print(\"\\nData 1 menit sesudah outlier:\")\n",
        "print(after)\n"
      ],
      "metadata": {
        "id": "SxjayiFzCOlG"
      },
      "execution_count": null,
      "outputs": []
    },
    {
      "cell_type": "markdown",
      "source": [
        "Kenaikan CO2 tersebut wajar karena terjadi secara bertahap dan berurutan, tidak ada lonjakan tiba-tiba yang ekstrem. Jadi nilai yang tampak sebagai outlier sebenarnya merupakan bagian dari tren alami atau fluktuasi harian data."
      ],
      "metadata": {
        "id": "ICAuv3X4HIEK"
      }
    },
    {
      "cell_type": "markdown",
      "source": [
        "## Normalisasi"
      ],
      "metadata": {
        "id": "teBj8LtUHa0j"
      }
    },
    {
      "cell_type": "code",
      "source": [
        "from sklearn.preprocessing import MinMaxScaler\n",
        "\n",
        "scaler = MinMaxScaler()\n",
        "cols_to_scale = ['co2', 'temperature', 'humidity', 'rainfall', 'pyrano']\n",
        "\n",
        "df_scaled = df_filled.copy()\n",
        "df_scaled[cols_to_scale] = scaler.fit_transform(df_scaled[cols_to_scale])\n",
        "\n",
        "# Jangan lupa reset index jika sebelumnya pakai timestamp sebagai index\n",
        "df_scaled = df_scaled.reset_index()\n",
        "\n",
        "print(df_scaled.head())"
      ],
      "metadata": {
        "id": "xr9bgyvcHaKt"
      },
      "execution_count": null,
      "outputs": []
    },
    {
      "cell_type": "code",
      "source": [
        "df_scaled.to_csv('/content/drive/MyDrive/df_scaled.csv', index=False)"
      ],
      "metadata": {
        "id": "d0-u3px7Ri4s"
      },
      "execution_count": null,
      "outputs": []
    }
  ]
}